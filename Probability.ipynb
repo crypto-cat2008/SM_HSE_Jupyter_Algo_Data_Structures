{
 "cells": [
  {
   "cell_type": "code",
   "execution_count": 1,
   "metadata": {},
   "outputs": [],
   "source": [
    "from numpy.random import choice\n",
    "import matplotlib.pyplot as plt\n",
    "import numpy as np\n",
    "%matplotlib inline"
   ]
  },
  {
   "cell_type": "code",
   "execution_count": 31,
   "metadata": {},
   "outputs": [
    {
     "name": "stdout",
     "output_type": "stream",
     "text": [
      "{1: 195, 2: 484, 4: 321}\n",
      "{1: 0.195, 2: 0.484, 4: 0.321}\n"
     ]
    }
   ],
   "source": [
    "def count_frequencies(data, relative=False):\n",
    "    counter = {}\n",
    "    for element in data:\n",
    "        if element not in counter:\n",
    "            # get this element for the first time\n",
    "            counter [element] = 1\n",
    "        else:\n",
    "            counter[element] += 1\n",
    "\n",
    "    if relative:\n",
    "        for element in counter:\n",
    "            counter[element] /= len(data)\n",
    "\n",
    "    return counter\n",
    "\n",
    "sample =[choice([1, 2, 4], p=[0.2, 0.5, 0.3]) for _ in range(1000)]\n",
    "print(count_frequencies(sample))\n",
    "print(count_frequencies(sample, True))\n",
    "\n",
    "# numpy array\n",
    "sample = choice([1, 2, 4], p=[0.2, 0.5, 0.3], size=1000)\n",
    "# print(sample)"
   ]
  },
  {
   "cell_type": "code",
   "execution_count": 32,
   "metadata": {},
   "outputs": [
    {
     "data": {
      "text/plain": [
       "<BarContainer object of 3 artists>"
      ]
     },
     "execution_count": 32,
     "metadata": {},
     "output_type": "execute_result"
    },
    {
     "data": {
      "image/png": "[encoded data removed]",
      "text/plain": [
       "<Figure size 432x288 with 1 Axes>"
      ]
     },
     "metadata": {
      "needs_background": "light"
     },
     "output_type": "display_data"
    }
   ],
   "source": [
    "freqs = count_frequencies(sample, relative=True)\n",
    "plt.bar(list(freqs.keys()),list(freqs.values()))"
   ]
  },
  {
   "cell_type": "code",
   "execution_count": 33,
   "metadata": {},
   "outputs": [],
   "source": [
    "from numpy.random import binomial\n",
    "from scipy.stats import binom"
   ]
  },
  {
   "cell_type": "code",
   "execution_count": 41,
   "metadata": {},
   "outputs": [],
   "source": [
    "sample = binomial(10, 0.3, size=1000) # toss coin 10 times, probability of sucess (for example head) is 0.3, sample size = 1000\n",
    "binom_freqs = count_frequencies(sample, relative=True)"
   ]
  },
  {
   "cell_type": "code",
   "execution_count": 42,
   "metadata": {},
   "outputs": [
    {
     "data": {
      "text/plain": [
       "0.12106082100000018"
      ]
     },
     "execution_count": 42,
     "metadata": {},
     "output_type": "execute_result"
    }
   ],
   "source": [
    "X = binom(10, 0.3)\n",
    "X.pmf(1)"
   ]
  },
  {
   "cell_type": "code",
   "execution_count": 44,
   "metadata": {},
   "outputs": [
    {
     "data": {
      "text/plain": [
       "<BarContainer object of 9 artists>"
      ]
     },
     "execution_count": 44,
     "metadata": {},
     "output_type": "execute_result"
    },
    {
     "data": {
      "image/png": "[encoded data removed]",
      "text/plain": [
       "<Figure size 432x288 with 1 Axes>"
      ]
     },
     "metadata": {
      "needs_background": "light"
     },
     "output_type": "display_data"
    }
   ],
   "source": [
    "x = np.arange(0, 10, 0.1)\n",
    "plt.plot(x, X.pmf(x), 'o', color='red')\n",
    "plt.bar(list(binom_freqs.keys()),list(binom_freqs.values()))"
   ]
  },
  {
   "cell_type": "code",
   "execution_count": 49,
   "metadata": {},
   "outputs": [
    {
     "data": {
      "text/plain": [
       "<BarContainer object of 10 artists>"
      ]
     },
     "execution_count": 49,
     "metadata": {},
     "output_type": "execute_result"
    },
    {
     "data": {
      "image/png": "[encoded data removed]",
      "text/plain": [
       "<Figure size 432x288 with 1 Axes>"
      ]
     },
     "metadata": {
      "needs_background": "light"
     },
     "output_type": "display_data"
    }
   ],
   "source": [
    "n = 10\n",
    "p = 0.8\n",
    "sample = binomial(n, p, size=100000)\n",
    "X = binom(n, p)\n",
    "binom_freqs = count_frequencies(sample, relative=True)\n",
    "plt.plot(x, X.pmf(x), 'o', color='red')\n",
    "plt.bar(list(binom_freqs.keys()),list(binom_freqs.values()))"
   ]
  },
  {
   "cell_type": "code",
   "execution_count": 50,
   "metadata": {},
   "outputs": [],
   "source": [
    "from scipy.stats import poisson"
   ]
  },
  {
   "cell_type": "code",
   "execution_count": 64,
   "metadata": {},
   "outputs": [
    {
     "name": "stdout",
     "output_type": "stream",
     "text": [
      "0.016563608480614445\n"
     ]
    },
    {
     "data": {
      "image/png": "[encoded data removed]",
      "text/plain": [
       "<Figure size 432x288 with 1 Axes>"
      ]
     },
     "metadata": {
      "needs_background": "light"
     },
     "output_type": "display_data"
    }
   ],
   "source": [
    "X = [0, 1, 2, 3, 4, 5]\n",
    "lmbda = 2\n",
    "poisson_pd = poisson.pmf(X, mu=lmbda)\n",
    "plt.plot(X, poisson_pd, 'o', color='red')\n",
    "print(1-sum(poisson_pd))"
   ]
  },
  {
   "cell_type": "code",
   "execution_count": 70,
   "metadata": {},
   "outputs": [
    {
     "name": "stdout",
     "output_type": "stream",
     "text": [
      "[0.13533528 0.40600585 0.67667642 0.85712346 0.94734698 0.98343639\n",
      " 0.99546619 0.99890328 0.99976255 0.9999535  0.99999169]\n"
     ]
    },
    {
     "data": {
      "text/plain": [
       "[<matplotlib.lines.Line2D at 0x1218d853640>]"
      ]
     },
     "execution_count": 70,
     "metadata": {},
     "output_type": "execute_result"
    },
    {
     "data": {
      "image/png": "[encoded data removed]",
      "text/plain": [
       "<Figure size 432x288 with 1 Axes>"
      ]
     },
     "metadata": {
      "needs_background": "light"
     },
     "output_type": "display_data"
    }
   ],
   "source": [
    "X = [0, 1, 2, 3, 4, 5, 6, 7, 8, 9 ,10]\n",
    "prob = poisson.cdf(X, mu=2)\n",
    "print(prob)\n",
    "plt.plot(X, prob, 'o', color='red')"
   ]
  },
  {
   "cell_type": "code",
   "execution_count": 72,
   "metadata": {},
   "outputs": [
    {
     "name": "stdout",
     "output_type": "stream",
     "text": [
      "[ 0.  1.  2.  3.  4.  5.  6.  7.  8.  9. 10.]\n"
     ]
    },
    {
     "data": {
      "text/plain": [
       "[<matplotlib.lines.Line2D at 0x1218da8b610>]"
      ]
     },
     "execution_count": 72,
     "metadata": {},
     "output_type": "execute_result"
    },
    {
     "data": {
      "image/png": "[encoded data removed]",
      "text/plain": [
       "<Figure size 432x288 with 1 Axes>"
      ]
     },
     "metadata": {
      "needs_background": "light"
     },
     "output_type": "display_data"
    }
   ],
   "source": [
    "ppf = poisson.ppf(prob, mu=2)\n",
    "print(ppf)\n",
    "plt.plot(prob, ppf, 'o', color='red')"
   ]
  },
  {
   "cell_type": "code",
   "execution_count": 77,
   "metadata": {},
   "outputs": [
    {
     "name": "stdout",
     "output_type": "stream",
     "text": [
      "5.0\n"
     ]
    }
   ],
   "source": [
    "print(poisson.ppf(0.95, mu=2))"
   ]
  },
  {
   "cell_type": "code",
   "execution_count": 80,
   "metadata": {},
   "outputs": [],
   "source": [
    "a = binom(5, 0.5).rvs()"
   ]
  },
  {
   "cell_type": "code",
   "execution_count": 143,
   "metadata": {},
   "outputs": [
    {
     "data": {
      "text/plain": [
       "[<matplotlib.lines.Line2D at 0x1218dbcda90>]"
      ]
     },
     "execution_count": 143,
     "metadata": {},
     "output_type": "execute_result"
    },
    {
     "data": {
      "image/png": "[encoded data removed]",
      "text/plain": [
       "<Figure size 432x288 with 1 Axes>"
      ]
     },
     "metadata": {
      "needs_background": "light"
     },
     "output_type": "display_data"
    }
   ],
   "source": [
    "import random\n",
    "import matplotlib.pyplot as plt\n",
    "from itertools import product\n",
    "\n",
    "def X(outcome):\n",
    "    return outcome.count('H')\n",
    "    \n",
    "\n",
    "def rbinom_fair(trials):\n",
    "\n",
    "    p = 0.5  # probability of sucess (head)\n",
    "    omega = list(product('HT', repeat=trials))\n",
    "    random_choice = random.choice(omega)\n",
    "    \n",
    "    return X(random_choice)  \n",
    "\n",
    "x = [i for i in range(20)]\n",
    "trails = 10\n",
    "sample = [rbinom_fair(trails) for i in range(20)]\n",
    "plt.plot(x, sample, 'o', color='red')\n",
    "sample2 = [binom(trails, 0.5).rvs() for i in range(20)]\n",
    "plt.plot(x, sample2, 'o', color='blue')"
   ]
  },
  {
   "cell_type": "code",
   "execution_count": 144,
   "metadata": {},
   "outputs": [
    {
     "data": {
      "text/plain": [
       "2"
      ]
     },
     "execution_count": 144,
     "metadata": {},
     "output_type": "execute_result"
    }
   ],
   "source": [
    "rbinom_fair(10)"
   ]
  },
  {
   "cell_type": "code",
   "execution_count": 161,
   "metadata": {},
   "outputs": [
    {
     "name": "stdout",
     "output_type": "stream",
     "text": [
      "[1 4 1 5 4]\n"
     ]
    }
   ],
   "source": [
    "trials = 10\n",
    "prob = 0.3\n",
    "size = 5\n",
    "a = binom(trials, prob).rvs(size)\n",
    "print(a)"
   ]
  },
  {
   "cell_type": "code",
   "execution_count": 211,
   "metadata": {},
   "outputs": [],
   "source": [
    "from numpy.random import choice\n",
    "from scipy.special import comb\n",
    "import matplotlib.pyplot as plt\n",
    "\n",
    "from scipy.stats import binom\n",
    "\n",
    "\n",
    "def rbinom(trials, prob, size):\n",
    "    \n",
    "    outcomes = [i for i in range(trials+1)] # number of heads\n",
    "    p = [] # probabilities\n",
    "    \n",
    "    for outcome in outcomes:\n",
    "        outcome_p = comb(trials, outcome)*(prob**outcome)*((1-prob)**(trials-outcome))\n",
    "        p.append(outcome_p)\n",
    "    \n",
    "    return choice(a=outcomes, p=p, size=size)\n",
    "\n",
    "    \n",
    "    \n",
    "    "
   ]
  },
  {
   "cell_type": "code",
   "execution_count": 212,
   "metadata": {},
   "outputs": [
    {
     "name": "stdout",
     "output_type": "stream",
     "text": [
      "0.9999999999999992\n"
     ]
    },
    {
     "data": {
      "text/plain": [
       "array([4, 4, 3, 2, 1])"
      ]
     },
     "execution_count": 212,
     "metadata": {},
     "output_type": "execute_result"
    }
   ],
   "source": [
    "rbinom(10, 0.3, 5) # expecting something like `array([4, 1, 3, 2, 1])`"
   ]
  },
  {
   "cell_type": "code",
   "execution_count": 217,
   "metadata": {},
   "outputs": [],
   "source": [
    "def rbinom_with_bernoulli(trials, prob):\n",
    "    y = []\n",
    "    \n",
    "    for i in range(trials):\n",
    "        random_choice = choice([0, 1], p=[1-prob, prob])\n",
    "        y.append(random_choice)\n",
    "        \n",
    "    return sum(y)\n",
    "      "
   ]
  },
  {
   "cell_type": "code",
   "execution_count": 218,
   "metadata": {},
   "outputs": [
    {
     "name": "stdout",
     "output_type": "stream",
     "text": [
      "2\n"
     ]
    }
   ],
   "source": [
    "a = rbinom_with_bernoulli(10, 0.3)\n",
    "print(a)"
   ]
  },
  {
   "cell_type": "code",
   "execution_count": 240,
   "metadata": {},
   "outputs": [],
   "source": [
    "def rgeom(p):\n",
    "    \n",
    "    keep_tossing = True # head is 1\n",
    "    x = []\n",
    "    \n",
    "    while keep_tossing:\n",
    "        toss = choice([0, 1], p=[1-p, p])\n",
    "        x.append(toss)\n",
    "        if 1 in x:\n",
    "            keep_tossing = False\n",
    "            \n",
    "    return len(x)\n",
    "        "
   ]
  },
  {
   "cell_type": "code",
   "execution_count": 241,
   "metadata": {},
   "outputs": [
    {
     "name": "stdout",
     "output_type": "stream",
     "text": [
      "3\n"
     ]
    }
   ],
   "source": [
    "a = rgeom(0.3)\n",
    "print(a)"
   ]
  },
  {
   "cell_type": "code",
   "execution_count": 1,
   "metadata": {},
   "outputs": [],
   "source": [
    "from math import factorial"
   ]
  },
  {
   "cell_type": "code",
   "execution_count": 26,
   "metadata": {},
   "outputs": [],
   "source": [
    "def multinomial_likelihood(probs, freqs):\n",
    "    \n",
    "    n = len(freqs.keys())\n",
    "    f_denom = 1.\n",
    "    p_total = -1\n",
    "    \n",
    "    for key, f in freqs.items():\n",
    "        f_denom *= factorial(f)\n",
    "        \n",
    "    for key, p in probs.items():\n",
    "        if key in freqs:\n",
    "            f = freqs[key]\n",
    "            if p_total == -1:\n",
    "                p_total = p**f\n",
    "            else:\n",
    "                p_total *= p**f\n",
    "            \n",
    "    return (factorial(n)/f_denom)*p_total"
   ]
  },
  {
   "cell_type": "code",
   "execution_count": 27,
   "metadata": {},
   "outputs": [
    {
     "name": "stdout",
     "output_type": "stream",
     "text": [
      "0.0027000000000000006\n",
      "0.0005400000000000001\n"
     ]
    }
   ],
   "source": [
    "print(multinomial_likelihood(probs={'a': 0.2, 'b': 0.5, 'c': 0.3}, freqs={'a': 2, 'b': 1, 'c': 2}))\n",
    "print(multinomial_likelihood(probs={'a': 0.2, 'b': 0.1, 'c': 0.3, 'd': 0.4}, freqs={'a': 2, 'b': 1, 'c': 2}))\n",
    "                             \n",
    "# assert abs(multinomial_likelihood(probs={'a': 0.2, 'b': 0.5, 'c': 0.3}, freqs={'a': 2, 'b': 1, 'c': 2}) - 0.0027) < 0.000001"
   ]
  },
  {
   "cell_type": "code",
   "execution_count": null,
   "metadata": {},
   "outputs": [],
   "source": [
    "def get_freqs(text, relative=False):\n",
    "    # your code here\n",
    "    counter = dict()\n",
    "    \n",
    "    for char in text:\n",
    "        if char not in counter:\n",
    "            counter[char] = 1\n",
    "        else:\n",
    "            counter[char] += 1\n",
    "\n",
    "    if relative:\n",
    "        for char in counter:\n",
    "            counter[char] /= len(text)\n",
    "            \n",
    "    return counter"
   ]
  },
  {
   "cell_type": "code",
   "execution_count": null,
   "metadata": {},
   "outputs": [],
   "source": [
    "lang_to_probs = dict()\n",
    "langs = ['English', 'Italian', 'Spanish', 'German', 'French', 'Polish', 'Portuguese']\n",
    "\n",
    "for l in langs:    \n",
    "    l_file = \"data/\" + l + \".txt\"\n",
    "    with open(l_file) as f:\n",
    "        data = f.read()\n",
    "    \n",
    "    lang_to_probs[l] = get_freqs(data, relative=True)"
   ]
  },
  {
   "cell_type": "code",
   "execution_count": null,
   "metadata": {},
   "outputs": [],
   "source": [
    "from math import factorial\n",
    "\n",
    "def multinomial_likelihood(probs, freqs):\n",
    "    \n",
    "    n = len(freqs.keys())\n",
    "    f_denom = 1.\n",
    "    p_total = -1\n",
    "    \n",
    "    for key, f in freqs.items():\n",
    "        f_denom *= factorial(f)\n",
    "        \n",
    "    for key, p in probs.items():\n",
    "        if key in freqs:\n",
    "            f = freqs[key]\n",
    "            if p_total == -1:\n",
    "                p_total = p**f\n",
    "            else:\n",
    "                p_total *= p**f\n",
    "            \n",
    "    return (factorial(n)/f_denom)*p_total"
   ]
  },
  {
   "cell_type": "code",
   "execution_count": null,
   "metadata": {},
   "outputs": [],
   "source": [
    "def multinomial_likelihood_without_coeff(probs, freqs):\n",
    "    p_total = -1\n",
    "        \n",
    "    for key, p in probs.items():\n",
    "        if key in freqs:\n",
    "            f = freqs[key]\n",
    "            if p_total == -1:\n",
    "                p_total = p**f\n",
    "            else:\n",
    "                p_total *= p**f\n",
    "            \n",
    "    return p_total"
   ]
  },
  {
   "cell_type": "code",
   "execution_count": null,
   "metadata": {},
   "outputs": [],
   "source": [
    "from math import log\n",
    "\n",
    "def log_likelihood_without_coeff(probs, freqs):\n",
    "    p_total = -1\n",
    "        \n",
    "    for key, p in probs.items():\n",
    "        if key in freqs:\n",
    "            f = freqs[key]\n",
    "            if p_total == -1:\n",
    "                p_total = f*log(p)\n",
    "            else:\n",
    "                p_total += f*log(p)\n",
    "            \n",
    "    return p_total"
   ]
  },
  {
   "cell_type": "code",
   "execution_count": 11,
   "metadata": {},
   "outputs": [
    {
     "name": "stdout",
     "output_type": "stream",
     "text": [
      "1.5\n",
      "5.0\n"
     ]
    }
   ],
   "source": [
    "a = [1, 1, 2, 3, 5, 5, 6]\n",
    "print(np.quantile(a, 0.25))\n",
    "print(np.quantile(a, 0.75))"
   ]
  },
  {
   "cell_type": "code",
   "execution_count": 7,
   "metadata": {},
   "outputs": [
    {
     "name": "stdout",
     "output_type": "stream",
     "text": [
      "[0.  0.1 0.2 0.3 0.4 0.5 0.6 0.7 0.8 0.9]\n"
     ]
    },
    {
     "data": {
      "text/plain": [
       "[<matplotlib.lines.Line2D at 0x21827b166d0>]"
      ]
     },
     "execution_count": 7,
     "metadata": {},
     "output_type": "execute_result"
    },
    {
     "data": {
      "image/png": "[encoded data removed]",
      "text/plain": [
       "<Figure size 432x288 with 1 Axes>"
      ]
     },
     "metadata": {
      "needs_background": "light"
     },
     "output_type": "display_data"
    }
   ],
   "source": [
    "i = np.arange(0, 1, 0.1)\n",
    "print(i)\n",
    "plt.plot(i, np.quantile(a,i), 'o')"
   ]
  },
  {
   "cell_type": "code",
   "execution_count": null,
   "metadata": {},
   "outputs": [],
   "source": []
  }
 ],
 "metadata": {
  "kernelspec": {
   "display_name": "Python 3 (ipykernel)",
   "language": "python",
   "name": "python3"
  },
  "language_info": {
   "codemirror_mode": {
    "name": "ipython",
    "version": 3
   },
   "file_extension": ".py",
   "mimetype": "text/x-python",
   "name": "python",
   "nbconvert_exporter": "python",
   "pygments_lexer": "ipython3",
   "version": "3.7.11"
  }
 },
 "nbformat": 4,
 "nbformat_minor": 4
}
