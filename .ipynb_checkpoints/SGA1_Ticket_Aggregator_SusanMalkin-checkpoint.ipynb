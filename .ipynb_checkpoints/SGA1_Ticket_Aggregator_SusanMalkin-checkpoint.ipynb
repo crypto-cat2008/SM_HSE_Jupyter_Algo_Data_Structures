{
 "cells": [
  {
   "cell_type": "code",
   "execution_count": 195,
   "metadata": {},
   "outputs": [],
   "source": [
    "# Ticket Aggregator\n",
    "#     This program checks individual flights and returns flight classification\n",
    "#\n",
    "# Input:\n",
    "#     Flight price in dollars (int)\n",
    "#     Number of transfers (int)\n",
    "#     Refund included (bool)\n",
    "#     Luggage included (bool)\n",
    "#\n",
    "# Output:\n",
    "#     Flight classification: \"The best offer\", \"Good enough offer\", \"The worst offer\", \"Other - cannot be classified\"\n",
    "#"
   ]
  },
  {
   "cell_type": "code",
   "execution_count": 196,
   "metadata": {},
   "outputs": [
    {
     "name": "stdout",
     "output_type": "stream",
     "text": [
      "Please enter flight price in dollars: 201\n",
      "Please enter number of transfers: 4\n",
      "If refund is included, enter Y: y\n",
      "If luggage is included, enter Y: y\n"
     ]
    }
   ],
   "source": [
    "# Collect and validate input values\n",
    "\n",
    "while True:\n",
    "    priceStr = input(\"Please enter flight price in dollars: \")\n",
    "    \n",
    "    if '.' in priceStr:\n",
    "        pass\n",
    "    else:\n",
    "        price = int(priceStr)\n",
    "        if price <= 0:\n",
    "            pass\n",
    "        else:\n",
    "            break\n",
    "while True:\n",
    "    numOfTransfers = input(\"Please enter number of transfers: \")\n",
    "    \n",
    "    if '.' in numOfTransfers:\n",
    "        pass\n",
    "    else:\n",
    "        transfers = int(numOfTransfers)\n",
    "        \n",
    "        if transfers < 0:\n",
    "            pass\n",
    "        else:\n",
    "            break \n",
    "\n",
    "while True:\n",
    "    refundIncluded = input(\"If refund is included, enter Y: \")\n",
    "    \n",
    "    if refundIncluded == \"Y\" or refundIncluded == \"y\":\n",
    "        refund = True\n",
    "        break\n",
    "    else:\n",
    "        refund = False\n",
    "        break\n",
    "        \n",
    "while True:\n",
    "    luggageIncluded = input(\"If luggage is included, enter Y: \")\n",
    "    \n",
    "    if luggageIncluded == \"Y\" or luggageIncluded == \"y\":\n",
    "        luggage = True\n",
    "        break\n",
    "    else:\n",
    "        luggage = False\n",
    "        break\n",
    "        "
   ]
  },
  {
   "cell_type": "code",
   "execution_count": 197,
   "metadata": {},
   "outputs": [
    {
     "name": "stdout",
     "output_type": "stream",
     "text": [
      "Ticket Information - Price: 201 Stops: 4 Refund inclided? True Luggage included? True\n",
      "Category - Other - cannot be classified\n"
     ]
    }
   ],
   "source": [
    "# Assign a category to the flight based on entered data\n",
    "\n",
    "category1 = \"The best offer\"\n",
    "category2 = \"Good enough offer\"\n",
    "category3 = \"The worst offer\"\n",
    "category4 = \"Other - cannot be classified\"\n",
    "\n",
    "print(\"Ticket Information - Price:\", price, \"Stops:\", transfers, \"Refund inclided?\", refund, \"Luggage included?\", luggage, sep=' ')\n",
    "\n",
    "if 0 < price < 200:\n",
    "    if transfers in range(0,2) and refund and luggage:\n",
    "        print(\"Category -\", category1)\n",
    "    else:\n",
    "        print(\"Category -\", category4)\n",
    "\n",
    "elif 200 <= price <= 250:\n",
    "    if transfers in range(0,3):\n",
    "        print(\"Category -\", category2)\n",
    "    else:\n",
    "        print(\"Category -\", category4)\n",
    "\n",
    "else:\n",
    "    if transfers > 2:\n",
    "        print(\"Category -\", category3)\n",
    "    else:\n",
    "        print(\"Category -\", category4)\n"
   ]
  },
  {
   "cell_type": "code",
   "execution_count": 198,
   "metadata": {},
   "outputs": [],
   "source": [
    "# Analysis\n",
    "#\n",
    "# This classifier has multiple issues:\n",
    "#\n",
    "# 1. It creates dependencies between input data fields. \n",
    "#    For example: people may consider paying more for a direct flight with refund and luggage included but \n",
    "#    initial categorization is performed by price and all other choices become dependent on price categorization.\n",
    "#\n",
    "# 2. It does not classify all possible options. Many combinations of input data fields will fall into \"other\" category.\n",
    "#\n",
    "# 3. It does not consider priority of values entered. Some people may prioritize price over duration and \n",
    "#    some people may prioritize duration over price.\n",
    "#\n",
    "# 4. It uses a small set of 4 variables to define a flight. We can add more input fields to improve categorization outcomes.\n",
    "#"
   ]
  },
  {
   "cell_type": "code",
   "execution_count": 199,
   "metadata": {},
   "outputs": [],
   "source": [
    "# Improved Classifier\n",
    "#\n",
    "# We will assume that price and duration (number of stops) are top priorities and equally important. \n",
    "# We will assume that refund and luggage are lesser priorities and equally important.\n",
    "#\n",
    "# We will categorize flights based on sum of weights (reflect priority) and rates (reflect value):\n",
    "# Price rates are (best to worst): 0-199 = 3, 200-250 = 2, 251-999 = 1, >999 = 0 (penalize for unreasonable values). \n",
    "# Price weight: 2\n",
    "# Duration rates are (best to worst): 0-1 = 3, 2-3 = 2, 4 = 1, >4 = 0 (penalize for unreasonable values). \n",
    "# Duration weight: 2\n",
    "# For refund and luggage both weight and rate are equal to 1. \n",
    "# We will only consider refund and luggage if rates for high priority items are not equal to 0, which means they are reasonable.\n",
    "#\n",
    "# This categorization will result in max score = 14 and min score = 0\n",
    "# We will match each category with the following scores:\n",
    "#   \"The best offer\" = 14-12 \n",
    "#   \"Good enough offer\" = 11-7\n",
    "#   \"The worst offer\" = 6-0\n",
    "#\n",
    "# There will be no 'other' category. We will always provide an opinion."
   ]
  },
  {
   "cell_type": "code",
   "execution_count": 200,
   "metadata": {},
   "outputs": [
    {
     "name": "stdout",
     "output_type": "stream",
     "text": [
      "Ticket Information - Price: 201 Stops: 4 Refund inclided? True Luggage included? True\n",
      "Category - Good enough offer\n"
     ]
    }
   ],
   "source": [
    "totalScore = 0\n",
    "\n",
    "if price < 200:\n",
    "    priceScore = 3\n",
    "elif 200 <= price <= 250:\n",
    "    priceScore = 2\n",
    "elif 250 < price < 1000:\n",
    "    priceScore = 1\n",
    "else:\n",
    "    priceScore = 0\n",
    "    \n",
    "if transfers < 2:\n",
    "    transferScore = 3\n",
    "elif 2 <= transfers <= 3:\n",
    "    transferScore = 2\n",
    "elif transfers == 4:\n",
    "    transferScore = 1\n",
    "else:\n",
    "    transferScore = 0\n",
    "\n",
    "if refund and priceScore > 0 and transferScore > 0: # if price and duration within acceptable range, consider refund\n",
    "    refundScore = 1\n",
    "else:\n",
    "    refundScore = 0\n",
    "\n",
    "if luggage and priceScore > 0 and transferScore > 0: # if price and duration within acceptable range, consider luggage\n",
    "    luggageScore = 1\n",
    "else:\n",
    "    luggageScore = 0\n",
    "    \n",
    "totalScore = 2*priceScore + 2*transferScore + refundScore + luggageScore\n",
    "# print(totalScore, priceScore, transferScore, refundScore, luggageScore)\n",
    "print(\"Ticket Information - Price:\", price, \"Stops:\", transfers, \"Refund inclided?\", refund, \"Luggage included?\", luggage, sep=' ')\n",
    "\n",
    "if totalScore < 7:\n",
    "    print(\"Category -\", category3)\n",
    "elif totalScore > 11:\n",
    "    print(\"Category -\", category1)\n",
    "else:\n",
    "    print(\"Category -\", category2)\n"
   ]
  },
  {
   "cell_type": "code",
   "execution_count": null,
   "metadata": {},
   "outputs": [],
   "source": []
  }
 ],
 "metadata": {
  "kernelspec": {
   "display_name": "Python 3",
   "language": "python",
   "name": "python3"
  },
  "language_info": {
   "codemirror_mode": {
    "name": "ipython",
    "version": 3
   },
   "file_extension": ".py",
   "mimetype": "text/x-python",
   "name": "python",
   "nbconvert_exporter": "python",
   "pygments_lexer": "ipython3",
   "version": "3.8.5"
  }
 },
 "nbformat": 4,
 "nbformat_minor": 4
}
