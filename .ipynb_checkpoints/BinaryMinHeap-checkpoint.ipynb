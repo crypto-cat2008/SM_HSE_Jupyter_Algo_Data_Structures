{
 "cells": [
  {
   "cell_type": "code",
   "execution_count": null,
   "metadata": {},
   "outputs": [],
   "source": [
    "class MinHeap(object):\n",
    "    \n",
    "    def __init__(self):\n",
    "        self.heap = []\n",
    "        \n",
    "    def _sift_up(self, item):\n",
    "        parent = (item - 1) //2\n",
    "        \n",
    "        if item > 0 and self.heap[item] < self.heap[parent]:\n",
    "            self.heap[item], self.heap[parent] = self.heap[parent], self.heap[item]  # swap\n",
    "    \n",
    "    def _sift_down(self, item):\n",
    "        l_child = item * 2 + 1\n",
    "        r_child = item * 2 + 2\n",
    "    "
   ]
  }
 ],
 "metadata": {
  "kernelspec": {
   "display_name": "Python 3",
   "language": "python",
   "name": "python3"
  },
  "language_info": {
   "codemirror_mode": {
    "name": "ipython",
    "version": 3
   },
   "file_extension": ".py",
   "mimetype": "text/x-python",
   "name": "python",
   "nbconvert_exporter": "python",
   "pygments_lexer": "ipython3",
   "version": "3.8.5"
  }
 },
 "nbformat": 4,
 "nbformat_minor": 4
}
