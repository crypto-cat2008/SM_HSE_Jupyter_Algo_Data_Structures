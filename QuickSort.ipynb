{
 "cells": [
  {
   "cell_type": "code",
   "execution_count": 5,
   "metadata": {},
   "outputs": [],
   "source": [
    "def partition(arr, l, r):   \n",
    "    i, pivot = l - 1, arr[r]\n",
    "    \n",
    "    for j in range(l, r):\n",
    "        if arr[j] <= pivot:    # increasing order\n",
    "            i += 1\n",
    "            arr[i], arr[j] = arr[j], arr[i]\n",
    "            \n",
    "    arr[i+1], arr[r] = arr[r], arr[i+1]\n",
    "    \n",
    "    return i + 1\n",
    "\n",
    "def quicksort(arr, l, r):\n",
    "    if l >= r:\n",
    "        return\n",
    "    \n",
    "    p = partition(arr, l, r)\n",
    "    quicksort(arr, l, p - 1)\n",
    "    quicksort(arr, p + 1, r)"
   ]
  },
  {
   "cell_type": "code",
   "execution_count": 6,
   "metadata": {},
   "outputs": [
    {
     "name": "stdout",
     "output_type": "stream",
     "text": [
      "[1, 2, 3, 4, 5, 6, 7, 8, 9, 10]\n"
     ]
    }
   ],
   "source": [
    "arr = [2, 1, 6, 4, 7, 3, 5, 8, 10, 9]\n",
    "n = len(arr)\n",
    "quicksort(arr, 0, n - 1)\n",
    "print(arr)"
   ]
  },
  {
   "cell_type": "code",
   "execution_count": 7,
   "metadata": {},
   "outputs": [],
   "source": [
    "def partition(arr, l, r):   \n",
    "    i, pivot = l - 1, arr[r]\n",
    "    \n",
    "    for j in range(l, r):\n",
    "        if arr[j] >= pivot:   # decreasing order\n",
    "            i += 1\n",
    "            arr[i], arr[j] = arr[j], arr[i]\n",
    "            \n",
    "    arr[i+1], arr[r] = arr[r], arr[i+1]\n",
    "    \n",
    "    return i + 1\n",
    "\n",
    "def quicksort(arr, l, r):\n",
    "    if l >= r:\n",
    "        return\n",
    "    \n",
    "    p = partition(arr, l, r)\n",
    "    quicksort(arr, l, p - 1)\n",
    "    quicksort(arr, p + 1, r)"
   ]
  },
  {
   "cell_type": "code",
   "execution_count": 8,
   "metadata": {},
   "outputs": [
    {
     "name": "stdout",
     "output_type": "stream",
     "text": [
      "[10, 9, 8, 7, 6, 5, 4, 3, 2, 1]\n"
     ]
    }
   ],
   "source": [
    "arr = [2, 1, 6, 4, 7, 3, 5, 8, 10, 9]\n",
    "n = len(arr)\n",
    "quicksort(arr, 0, n - 1)\n",
    "print(arr)"
   ]
  },
  {
   "cell_type": "code",
   "execution_count": null,
   "metadata": {},
   "outputs": [],
   "source": []
  }
 ],
 "metadata": {
  "kernelspec": {
   "display_name": "Python 3",
   "language": "python",
   "name": "python3"
  },
  "language_info": {
   "codemirror_mode": {
    "name": "ipython",
    "version": 3
   },
   "file_extension": ".py",
   "mimetype": "text/x-python",
   "name": "python",
   "nbconvert_exporter": "python",
   "pygments_lexer": "ipython3",
   "version": "3.8.5"
  }
 },
 "nbformat": 4,
 "nbformat_minor": 4
}
