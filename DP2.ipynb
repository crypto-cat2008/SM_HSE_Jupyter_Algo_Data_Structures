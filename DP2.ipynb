{
 "cells": [
  {
   "cell_type": "code",
   "execution_count": 9,
   "metadata": {},
   "outputs": [],
   "source": [
    "import math\n",
    "import matplotlib.pyplot as plt\n",
    "from time import time\n",
    "from random import randint\n",
    "\n",
    "W_example = [\"jars\", \"jaws\", \"joke\", \"jury\", \"juxtaposition\"]\n",
    "L_example = 15"
   ]
  },
  {
   "cell_type": "markdown",
   "metadata": {},
   "source": [
    "### Constructing optimal split"
   ]
  },
  {
   "cell_type": "markdown",
   "metadata": {},
   "source": [
    "**Idea** Memorize the j on which the maximum was acheved (will be stored in a separate `split` array)."
   ]
  },
  {
   "cell_type": "code",
   "execution_count": 10,
   "metadata": {},
   "outputs": [],
   "source": [
    "def tj_dynamic(L, W):\n",
    "    n = len(W)\n",
    "    tbl = [ math.inf ] * (n + 1)\n",
    "    split  = [0] * (n + 1) # NEW!\n",
    "    tbl[0] = 0\n",
    "    for i in range(1, n + 1):\n",
    "        length = -1\n",
    "        for j in range(i-1, -1, -1):\n",
    "            length += 1 + len(W[j])\n",
    "            if length > L:\n",
    "                P = math.inf\n",
    "            else:\n",
    "                P = (L - length)**3\n",
    "            if tbl[i] > tbl[j] + P:\n",
    "                tbl[i] = tbl[j] + P\n",
    "                split[i] = j\n",
    "    print(tbl)\n",
    "    print(split)\n",
    "    return tbl[n]"
   ]
  },
  {
   "cell_type": "code",
   "execution_count": 11,
   "metadata": {},
   "outputs": [
    {
     "name": "stdout",
     "output_type": "stream",
     "text": [
      "[0, 1331, 216, 1, 432, 440]\n",
      "[0, 0, 0, 0, 2, 4]\n"
     ]
    },
    {
     "data": {
      "text/plain": [
       "440"
      ]
     },
     "execution_count": 11,
     "metadata": {},
     "output_type": "execute_result"
    }
   ],
   "source": [
    "tj_dynamic(L_example, W_example)"
   ]
  },
  {
   "cell_type": "code",
   "execution_count": 12,
   "metadata": {},
   "outputs": [],
   "source": [
    "def tj_full(L, W):\n",
    "    n = len(W)\n",
    "    tbl = [ math.inf ] * (n + 1)\n",
    "    split  = [0] * (n + 1) # NEW!\n",
    "    tbl[0] = 0\n",
    "    for i in range(1, n + 1):\n",
    "        length = -1\n",
    "        for j in range(i-1, -1, -1):\n",
    "            length += 1 + len(W[j])\n",
    "            if length > L:\n",
    "                P = math.inf\n",
    "            else:\n",
    "                P = (L - length)**3\n",
    "            if tbl[i] > tbl[j] + P:\n",
    "                tbl[i] = tbl[j] + P\n",
    "                split[i] = j\n",
    "    \n",
    "    result = []\n",
    "    last = n\n",
    "    while last > 0:\n",
    "        result.append(W[split[last] : last])\n",
    "        last = split[last]\n",
    "    return result[::-1]"
   ]
  },
  {
   "cell_type": "code",
   "execution_count": 13,
   "metadata": {},
   "outputs": [
    {
     "data": {
      "text/plain": [
       "[['jars', 'jaws'], ['joke', 'jury'], ['juxtaposition']]"
      ]
     },
     "execution_count": 13,
     "metadata": {},
     "output_type": "execute_result"
    }
   ],
   "source": [
    "tj_full(L_example, W_example)"
   ]
  },
  {
   "cell_type": "code",
   "execution_count": 15,
   "metadata": {},
   "outputs": [
    {
     "name": "stdout",
     "output_type": "stream",
     "text": [
      "A AAAAAA AAAA AAAAAAA AAAA AAAA A AA AA AAAAA\n",
      "AAA AAAAAA AAAAAAA AAA AAAAAAA AAAAAA AAAAA\n",
      "AAAAAA AAAAA AAAA AA A AA AA AAA AAAAAA AA\n",
      "AAAAAA A AAAAAAA A AAA AAA AAAAA A AAAAAA AAA\n",
      "A AAAAAA AAAAA AAAA AAAAAAA AAAAAA AAA AAA\n",
      "AAAAAAA AAAAAA A AAAAAA AAAAAAA AAAAAA AAAAAA\n",
      "AAAA AA AAAAAAA AA AAAA AAAAAAA AAAAAA A AAAA\n",
      "AAAAAA A AAAAA AAAAA AAAA AAA AAA AAAAAA A A\n",
      "AAAA AA AAAAAA AAAA AAAAAAA AAAAAAA AAAAAAA\n",
      "AAAAAA AAAAAA AA AAA A AAA A AAAAAA AAA AAAA AA\n",
      "AAA AAAA AAA AAAAA A AAA AAAAAA A AAA A AAAAA\n"
     ]
    }
   ],
   "source": [
    "def gen_text(len_text, len_word):\n",
    "    return [\"A\" * randint(1, len_word) for _ in range(len_text)]\n",
    "\n",
    "text = gen_text(100, 7)\n",
    "splitted = tj_full(50, text)\n",
    "for line in splitted:\n",
    "    print(\" \".join(line))"
   ]
  },
  {
   "cell_type": "code",
   "execution_count": null,
   "metadata": {},
   "outputs": [],
   "source": []
  },
  {
   "cell_type": "code",
   "execution_count": null,
   "metadata": {},
   "outputs": [],
   "source": []
  },
  {
   "cell_type": "code",
   "execution_count": null,
   "metadata": {},
   "outputs": [],
   "source": []
  }
 ],
 "metadata": {
  "kernelspec": {
   "display_name": "Python 3",
   "language": "python",
   "name": "python3"
  },
  "language_info": {
   "codemirror_mode": {
    "name": "ipython",
    "version": 3
   },
   "file_extension": ".py",
   "mimetype": "text/x-python",
   "name": "python",
   "nbconvert_exporter": "python",
   "pygments_lexer": "ipython3",
   "version": "3.8.5"
  }
 },
 "nbformat": 4,
 "nbformat_minor": 4
}
