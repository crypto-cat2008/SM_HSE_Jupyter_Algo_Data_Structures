{
 "cells": [
  {
   "cell_type": "code",
   "execution_count": 1,
   "metadata": {},
   "outputs": [],
   "source": [
    "import matplotlib.pyplot as plt\n",
    "from time import time\n",
    "from random import randint\n",
    "import math\n",
    "\n",
    "def run_and_plot(functions, names, generate_instance, start, end, step):\n",
    "    for f in functions:\n",
    "        timings = []\n",
    "        for i in range(start, end, step):\n",
    "            args = generate_instance(i)\n",
    "            startt = time()\n",
    "            f(*args)\n",
    "            endt = time()\n",
    "            timings.append(math.sqrt(endt - startt))\n",
    "        plt.plot(timings)\n",
    "    plt.legend([n for n in names])"
   ]
  },
  {
   "cell_type": "markdown",
   "metadata": {},
   "source": [
    "## Knapsack problem"
   ]
  },
  {
   "cell_type": "code",
   "execution_count": 2,
   "metadata": {},
   "outputs": [],
   "source": [
    "def knapsack_recursive(W, V, C):\n",
    "    \n",
    "    def K(i, j):\n",
    "        if i == 0:\n",
    "            return 0 if j >= 0 else -math.inf\n",
    "        return max(\n",
    "            K(i - 1, j),\n",
    "            K(i - 1, j - W[i - 1]) + V[i - 1]\n",
    "        )\n",
    "    \n",
    "    return K(len(W), C)"
   ]
  },
  {
   "cell_type": "code",
   "execution_count": 158,
   "metadata": {},
   "outputs": [],
   "source": [
    "# W_example = [4, 3, 3]\n",
    "# V_example = [5, 3, 3]\n",
    "# C_example = 6\n",
    "W_example = [3,8,8,2,1,8,2,3]\n",
    "V_example = [5,4,7,5,11,20,18,20]\n",
    "C_example = 12"
   ]
  },
  {
   "cell_type": "code",
   "execution_count": 159,
   "metadata": {},
   "outputs": [
    {
     "data": {
      "text/plain": [
       "59"
      ]
     },
     "execution_count": 159,
     "metadata": {},
     "output_type": "execute_result"
    }
   ],
   "source": [
    "knapsack_recursive(W_example, V_example, C_example)"
   ]
  },
  {
   "cell_type": "code",
   "execution_count": 160,
   "metadata": {
    "jupyter": {
     "source_hidden": true
    }
   },
   "outputs": [],
   "source": [
    "def knapsack_dynamic(W, V, C): # O(nC)\n",
    "    n = len(W)\n",
    "    tbl = [[0] * (C + 1) for _ in range(n + 1)]\n",
    "    for i in range(1, n + 1):\n",
    "        for j in range(C + 1):\n",
    "            tbl[i][j] = tbl[i - 1][j]\n",
    "            if j >= W[i - 1]:\n",
    "                tbl[i][j] = max(\n",
    "                    tbl[i][j],\n",
    "                    tbl[i - 1][j - W[i - 1]] + V[i - 1]\n",
    "                )\n",
    "    print(\"\\n\".join([str(l) for l in tbl]))\n",
    "    return tbl[-1][-1]"
   ]
  },
  {
   "cell_type": "code",
   "execution_count": 161,
   "metadata": {
    "jupyter": {
     "outputs_hidden": true,
     "source_hidden": true
    }
   },
   "outputs": [
    {
     "name": "stdout",
     "output_type": "stream",
     "text": [
      "[0, 0, 0, 0, 0, 0, 0, 0, 0, 0, 0, 0, 0]\n",
      "[0, 0, 0, 5, 5, 5, 5, 5, 5, 5, 5, 5, 5]\n",
      "[0, 0, 0, 5, 5, 5, 5, 5, 5, 5, 5, 9, 9]\n",
      "[0, 0, 0, 5, 5, 5, 5, 5, 7, 7, 7, 12, 12]\n",
      "[0, 0, 5, 5, 5, 10, 10, 10, 10, 10, 12, 12, 12]\n",
      "[0, 11, 11, 16, 16, 16, 21, 21, 21, 21, 21, 23, 23]\n",
      "[0, 11, 11, 16, 16, 16, 21, 21, 21, 31, 31, 36, 36]\n",
      "[0, 11, 18, 29, 29, 34, 34, 34, 39, 39, 39, 49, 49]\n",
      "[0, 11, 18, 29, 31, 38, 49, 49, 54, 54, 54, 59, 59]\n"
     ]
    },
    {
     "data": {
      "text/plain": [
       "59"
      ]
     },
     "execution_count": 161,
     "metadata": {},
     "output_type": "execute_result"
    }
   ],
   "source": [
    "knapsack_dynamic(W_example, V_example, C_example)"
   ]
  },
  {
   "cell_type": "code",
   "execution_count": 7,
   "metadata": {
    "jupyter": {
     "source_hidden": true
    }
   },
   "outputs": [],
   "source": [
    "def generate_knapsack(n, W_ratio, V_max, C):\n",
    "    W = [randint(1, int(W_ratio * C) + 1) for _ in range(n)]\n",
    "    V = [randint(1, V_max) for _ in range(n)]\n",
    "    return (W, V, C)"
   ]
  },
  {
   "cell_type": "code",
   "execution_count": 8,
   "metadata": {
    "jupyter": {
     "source_hidden": true
    }
   },
   "outputs": [
    {
     "data": {
      "image/png": "[encoded data removed]",
      "text/plain": [
       "<Figure size 432x288 with 1 Axes>"
      ]
     },
     "metadata": {
      "needs_background": "light"
     },
     "output_type": "display_data"
    }
   ],
   "source": [
    "run_and_plot(\n",
    "    [knapsack_recursive, knapsack_dynamic],\n",
    "    [\"recursive\", \"dynamic\"],\n",
    "    lambda n: generate_knapsack(n, 0.1, n, n),\n",
    "    1, 20, 1\n",
    ")"
   ]
  },
  {
   "cell_type": "code",
   "execution_count": null,
   "metadata": {},
   "outputs": [],
   "source": []
  }
 ],
 "metadata": {
  "kernelspec": {
   "display_name": "Python 3",
   "language": "python",
   "name": "python3"
  },
  "language_info": {
   "codemirror_mode": {
    "name": "ipython",
    "version": 3
   },
   "file_extension": ".py",
   "mimetype": "text/x-python",
   "name": "python",
   "nbconvert_exporter": "python",
   "pygments_lexer": "ipython3",
   "version": "3.8.5"
  }
 },
 "nbformat": 4,
 "nbformat_minor": 4
}
