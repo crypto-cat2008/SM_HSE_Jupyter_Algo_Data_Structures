{
 "cells": [
  {
   "cell_type": "code",
   "execution_count": 6,
   "metadata": {},
   "outputs": [],
   "source": [
    "# Linked List\n",
    "class Node:\n",
    "    def __init__(self, val, link=None):\n",
    "        self.val = val\n",
    "        self.next = link"
   ]
  },
  {
   "cell_type": "code",
   "execution_count": 13,
   "metadata": {},
   "outputs": [],
   "source": [
    "class LinkedList:\n",
    "    def __init__(self):\n",
    "        self.head = None\n",
    "        \n",
    "    def tolist(self):\n",
    "        arr = []\n",
    "        node = self.head\n",
    "        \n",
    "        while node:\n",
    "            arr.append(node.val)\n",
    "            node = node.next\n",
    "            \n",
    "        return arr\n",
    "    \n",
    "    def search(self, val):\n",
    "        node = self.head\n",
    "        \n",
    "        while node:\n",
    "            if node.val == val:\n",
    "                return node\n",
    "            \n",
    "            node = node.next\n",
    "            \n",
    "        return None\n",
    "        \n",
    "        \n",
    "    def add(self, val):\n",
    "        node = Node(val)\n",
    "        node.next = self.head\n",
    "        self.head = node\n",
    "        \n",
    "    def pop(self, val):\n",
    "        \n",
    "        if self.head is None:\n",
    "            return\n",
    "        \n",
    "        if self.head.val == val: # the value we need to delete is head\n",
    "            self.head = self.head.next\n",
    "            return\n",
    "        \n",
    "        prev = self.head\n",
    "        node = self.head.next\n",
    "        \n",
    "        while node:\n",
    "            if node.val == val:            \n",
    "                prev.next = node.next\n",
    "                del node\n",
    "                return\n",
    "            \n",
    "            prev, node = node, node.next\n",
    "        "
   ]
  },
  {
   "cell_type": "code",
   "execution_count": 14,
   "metadata": {},
   "outputs": [
    {
     "name": "stdout",
     "output_type": "stream",
     "text": [
      "[1, 2, 3]\n",
      "[1, 3]\n",
      "[3]\n"
     ]
    }
   ],
   "source": [
    "llist = LinkedList()\n",
    "llist.add(3)\n",
    "llist.add(2)\n",
    "llist.add(1)\n",
    "print(llist.tolist())\n",
    "\n",
    "llist.pop(2)\n",
    "print(llist.tolist())\n",
    "\n",
    "llist.pop(1)\n",
    "print(llist.tolist())"
   ]
  },
  {
   "cell_type": "code",
   "execution_count": 15,
   "metadata": {},
   "outputs": [],
   "source": [
    "def array2linked(array):\n",
    "    head = Node(array[0])\n",
    "    node = head\n",
    "    \n",
    "    for elem in array[1:]:\n",
    "        tmp = Node(elem)\n",
    "        node.next = tmp\n",
    "        node = tmp\n",
    "        \n",
    "    return head\n",
    "\n",
    "def linked2array(head):\n",
    "    node = head\n",
    "    array = []\n",
    "    \n",
    "    while node:\n",
    "        array.append(node.val)\n",
    "        node = node.next\n",
    "        \n",
    "    return array"
   ]
  },
  {
   "cell_type": "code",
   "execution_count": 16,
   "metadata": {},
   "outputs": [
    {
     "name": "stdout",
     "output_type": "stream",
     "text": [
      "[1, 2, 3, 4, 5]\n"
     ]
    }
   ],
   "source": [
    "print(linked2array(array2linked([1, 2, 3, 4, 5])))"
   ]
  },
  {
   "cell_type": "code",
   "execution_count": 18,
   "metadata": {},
   "outputs": [],
   "source": [
    "def reverse_linked_list(head):\n",
    "    node = head\n",
    "    prev = None\n",
    "    \n",
    "    while node:\n",
    "        tmp = node.next\n",
    "        node.next = prev\n",
    "        node, prev = tmp, node\n",
    "    \n",
    "    return prev"
   ]
  },
  {
   "cell_type": "code",
   "execution_count": 19,
   "metadata": {},
   "outputs": [
    {
     "name": "stdout",
     "output_type": "stream",
     "text": [
      "[5, 4, 3, 2, 1]\n"
     ]
    }
   ],
   "source": [
    "print(linked2array(reverse_linked_list(array2linked([1, 2, 3, 4, 5]))))"
   ]
  },
  {
   "cell_type": "code",
   "execution_count": 20,
   "metadata": {},
   "outputs": [],
   "source": [
    "def median_linked_list(head):\n",
    "    slow, fast = head, head\n",
    "    \n",
    "    while fast:\n",
    "        fast = fast.next\n",
    "        if fast:\n",
    "            fast = fast.next\n",
    "            slow = slow.next\n",
    "            \n",
    "    return slow"
   ]
  },
  {
   "cell_type": "code",
   "execution_count": 22,
   "metadata": {},
   "outputs": [
    {
     "name": "stdout",
     "output_type": "stream",
     "text": [
      "3\n"
     ]
    }
   ],
   "source": [
    "print(median_linked_list(array2linked([1, 2, 3, 4, 5])).val)"
   ]
  },
  {
   "cell_type": "code",
   "execution_count": 26,
   "metadata": {},
   "outputs": [],
   "source": [
    "def has_cycles(head):\n",
    "    slow, fast = head, head\n",
    "    \n",
    "    while fast:\n",
    "        fast = fast.next\n",
    "        if fast:\n",
    "            fast = fast.next\n",
    "            slow = slow.next\n",
    "        if fast == slow:\n",
    "            return True\n",
    "        \n",
    "    return False"
   ]
  },
  {
   "cell_type": "code",
   "execution_count": 27,
   "metadata": {},
   "outputs": [
    {
     "name": "stdout",
     "output_type": "stream",
     "text": [
      "False\n"
     ]
    }
   ],
   "source": [
    "print(has_cycles(array2linked([1, 2, 3])))"
   ]
  },
  {
   "cell_type": "code",
   "execution_count": null,
   "metadata": {},
   "outputs": [],
   "source": []
  }
 ],
 "metadata": {
  "kernelspec": {
   "display_name": "Python 3",
   "language": "python",
   "name": "python3"
  },
  "language_info": {
   "codemirror_mode": {
    "name": "ipython",
    "version": 3
   },
   "file_extension": ".py",
   "mimetype": "text/x-python",
   "name": "python",
   "nbconvert_exporter": "python",
   "pygments_lexer": "ipython3",
   "version": "3.8.5"
  }
 },
 "nbformat": 4,
 "nbformat_minor": 4
}
