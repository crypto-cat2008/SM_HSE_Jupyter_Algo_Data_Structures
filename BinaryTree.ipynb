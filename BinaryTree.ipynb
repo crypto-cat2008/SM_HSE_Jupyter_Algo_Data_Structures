{
 "cells": [
  {
   "cell_type": "code",
   "execution_count": 3,
   "metadata": {
    "jupyter": {
     "source_hidden": true
    }
   },
   "outputs": [],
   "source": [
    "import binarytree\n",
    "\n",
    "def convert_to_bintree(root):\n",
    "    new_root = binarytree.Node(root.key)\n",
    "    if root.left != None:\n",
    "        new_root.left = convert_to_bintree(root.left)\n",
    "    if root.right != None:\n",
    "        new_root.right = convert_to_bintree(root.right)\n",
    "    return new_root"
   ]
  },
  {
   "cell_type": "code",
   "execution_count": 4,
   "metadata": {
    "jupyter": {
     "source_hidden": true
    }
   },
   "outputs": [],
   "source": [
    "def print_tree(root):\n",
    "    print(convert_to_bintree(root))"
   ]
  },
  {
   "cell_type": "markdown",
   "metadata": {},
   "source": [
    "## Binary Search Trees"
   ]
  },
  {
   "cell_type": "code",
   "execution_count": 5,
   "metadata": {},
   "outputs": [],
   "source": [
    "class Node:\n",
    "    def __init__(self, key=0, parent = None):\n",
    "        self.key = key\n",
    "        self.left = None\n",
    "        self.right = None\n",
    "        self.parent = parent"
   ]
  },
  {
   "cell_type": "code",
   "execution_count": 6,
   "metadata": {},
   "outputs": [],
   "source": [
    "def search(root, val):\n",
    "    if root == None or root.key == val:\n",
    "        return root\n",
    "    print(root.key)\n",
    "    if val < root.key:\n",
    "        return search(root.left, val)\n",
    "    return search(root.right, val)"
   ]
  },
  {
   "cell_type": "code",
   "execution_count": 7,
   "metadata": {
    "jupyter": {
     "source_hidden": true
    }
   },
   "outputs": [],
   "source": [
    "def insert(root, node):\n",
    "    if root.key > node.key:\n",
    "        if root.left == None:\n",
    "            root.left = node\n",
    "            node.parent = root\n",
    "        else:\n",
    "            insert(root.left, node)\n",
    "    else:\n",
    "        if root.right == None:\n",
    "            root.right = node\n",
    "            node.parent = root\n",
    "        else:\n",
    "            insert(root.right, node)"
   ]
  },
  {
   "cell_type": "code",
   "execution_count": 8,
   "metadata": {},
   "outputs": [
    {
     "name": "stdout",
     "output_type": "stream",
     "text": [
      "\n",
      "1\n",
      "\n"
     ]
    }
   ],
   "source": [
    "T = Node(1)\n",
    "#insert(T, Node(0))\n",
    "#insert(T, Node(-1))\n",
    "#insert(T, Node(5))\n",
    "#insert(T, Node(4))\n",
    "print_tree(T)"
   ]
  },
  {
   "cell_type": "code",
   "execution_count": 9,
   "metadata": {},
   "outputs": [],
   "source": [
    "T = Node(7)\n",
    "insert(T, Node(1))\n",
    "insert(T, Node(0))\n",
    "insert(T, Node(4))\n",
    "insert(T, Node(3))\n",
    "insert(T, Node(5))\n",
    "insert(T, Node(10))\n",
    "insert(T, Node(14))\n",
    "insert(T, Node(13))"
   ]
  },
  {
   "cell_type": "code",
   "execution_count": 10,
   "metadata": {},
   "outputs": [
    {
     "name": "stdout",
     "output_type": "stream",
     "text": [
      "\n",
      "    ______7\n",
      "   /       \\\n",
      "  1__       10___\n",
      " /   \\           \\\n",
      "0     4          _14\n",
      "     / \\        /\n",
      "    3   5      13\n",
      "\n"
     ]
    }
   ],
   "source": [
    "print_tree(T)"
   ]
  },
  {
   "cell_type": "code",
   "execution_count": 11,
   "metadata": {},
   "outputs": [
    {
     "name": "stdout",
     "output_type": "stream",
     "text": [
      "7\n",
      "10\n"
     ]
    },
    {
     "data": {
      "text/plain": [
       "True"
      ]
     },
     "execution_count": 11,
     "metadata": {},
     "output_type": "execute_result"
    }
   ],
   "source": [
    "search(T, 8) is None"
   ]
  },
  {
   "cell_type": "code",
   "execution_count": 12,
   "metadata": {},
   "outputs": [
    {
     "name": "stdout",
     "output_type": "stream",
     "text": [
      "7\n",
      "1\n",
      "4\n"
     ]
    },
    {
     "data": {
      "text/plain": [
       "3"
      ]
     },
     "execution_count": 12,
     "metadata": {},
     "output_type": "execute_result"
    }
   ],
   "source": [
    "search(T, 3).key"
   ]
  },
  {
   "cell_type": "code",
   "execution_count": null,
   "metadata": {},
   "outputs": [],
   "source": []
  }
 ],
 "metadata": {
  "kernelspec": {
   "display_name": "Python 3",
   "language": "python",
   "name": "python3"
  },
  "language_info": {
   "codemirror_mode": {
    "name": "ipython",
    "version": 3
   },
   "file_extension": ".py",
   "mimetype": "text/x-python",
   "name": "python",
   "nbconvert_exporter": "python",
   "pygments_lexer": "ipython3",
   "version": "3.8.5"
  }
 },
 "nbformat": 4,
 "nbformat_minor": 4
}
