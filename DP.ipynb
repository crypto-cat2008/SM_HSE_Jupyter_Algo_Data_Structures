{
 "cells": [
  {
   "cell_type": "code",
   "execution_count": 1,
   "metadata": {},
   "outputs": [],
   "source": [
    "import math"
   ]
  },
  {
   "cell_type": "markdown",
   "metadata": {},
   "source": [
    "## Text justification: recursion"
   ]
  },
  {
   "cell_type": "code",
   "execution_count": 2,
   "metadata": {},
   "outputs": [],
   "source": [
    "W_example = [\"jars\", \"jaws\", \"joke\", \"jury\", \"juxtaposition\"]\n",
    "L_example = 15"
   ]
  },
  {
   "cell_type": "code",
   "execution_count": 39,
   "metadata": {},
   "outputs": [],
   "source": [
    "def tj_recursive(L, W):\n",
    "    def P(i, j): # penalty\n",
    "        length = sum([len(W[k]) for k in range(i, j)])\n",
    "        # print('P', i, j, length, '\\n')\n",
    "        length += j - i - 1 # adding spaces\n",
    "        if length > L:\n",
    "            return math.inf\n",
    "        return (L - length)**3\n",
    "    \n",
    "    def TJP(i):\n",
    "        if i == 0: \n",
    "            return 0\n",
    "\n",
    "        a = min([TJP(j) + P(j, i) for j in range(i)])\n",
    "        # print(i, a)\n",
    "        return(a)\n",
    "    \n",
    "    return TJP(len(W))"
   ]
  },
  {
   "cell_type": "code",
   "execution_count": 40,
   "metadata": {},
   "outputs": [
    {
     "data": {
      "text/plain": [
       "440"
      ]
     },
     "execution_count": 40,
     "metadata": {},
     "output_type": "execute_result"
    }
   ],
   "source": [
    "tj_recursive(L_example, W_example)"
   ]
  },
  {
   "cell_type": "code",
   "execution_count": null,
   "metadata": {},
   "outputs": [],
   "source": []
  }
 ],
 "metadata": {
  "kernelspec": {
   "display_name": "Python 3",
   "language": "python",
   "name": "python3"
  },
  "language_info": {
   "codemirror_mode": {
    "name": "ipython",
    "version": 3
   },
   "file_extension": ".py",
   "mimetype": "text/x-python",
   "name": "python",
   "nbconvert_exporter": "python",
   "pygments_lexer": "ipython3",
   "version": "3.8.5"
  }
 },
 "nbformat": 4,
 "nbformat_minor": 4
}
