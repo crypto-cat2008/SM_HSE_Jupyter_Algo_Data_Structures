{
 "cells": [
  {
   "cell_type": "code",
   "execution_count": 1,
   "metadata": {},
   "outputs": [],
   "source": [
    "class MinHeap(object):\n",
    "    \n",
    "    def __init__(self):\n",
    "        self.heap = []\n",
    "        \n",
    "    def _sift_up(self, item):\n",
    "        parent = (item - 1) //2\n",
    "        \n",
    "        if item > 0 and self.heap[item] < self.heap[parent]:\n",
    "            self.heap[item], self.heap[parent] = self.heap[parent], self.heap[item]  # swap\n",
    "            self._sift_up(parent)\n",
    "    \n",
    "    def _sift_down(self, item):\n",
    "        l_child = item * 2 + 1\n",
    "        r_child = item * 2 + 2\n",
    "        \n",
    "        if l_child < len(self.heap) and self.heap[l_child] < self.heap[item]:\n",
    "            self.heap[item], self.heap[l_child] = self.heap[l_child], self.heap[item]  # swap\n",
    "            self._sift_down(l_child)\n",
    "            \n",
    "        if r_child < len(self.heap) and self.heap[r_child] < self.heap[item]:\n",
    "            self.heap[item], self.heap[r_child] = self.heap[r_child], self.heap[item]  # swap\n",
    "            self._sift_down(r_child)\n",
    "            \n",
    "    def push(self, elem):\n",
    "        self.heap.append(elem)\n",
    "        self._sift_up(len(self.heap) - 1)\n",
    "        \n",
    "    def view(self):\n",
    "        return self.heap[0]   # check for empty array!!! add error\n",
    "        \n",
    "        \n",
    "    def pop(self, elem):\n",
    "        self.heap[0], self.heap[-1] = self.heap[-1], self.heap[0]\n",
    "        elem = self.heap.pop()\n",
    "        self._sift_down(0)        \n",
    "    "
   ]
  },
  {
   "cell_type": "code",
   "execution_count": 3,
   "metadata": {},
   "outputs": [
    {
     "name": "stdout",
     "output_type": "stream",
     "text": [
      "1\n",
      "2\n"
     ]
    }
   ],
   "source": [
    "h = MinHeap()\n",
    "h.push(2)\n",
    "h.push(1)\n",
    "h.push(3)\n",
    "print(h.view())\n",
    "h.pop(1)\n",
    "print(h.view())"
   ]
  },
  {
   "cell_type": "code",
   "execution_count": null,
   "metadata": {},
   "outputs": [],
   "source": []
  }
 ],
 "metadata": {
  "kernelspec": {
   "display_name": "Python 3",
   "language": "python",
   "name": "python3"
  },
  "language_info": {
   "codemirror_mode": {
    "name": "ipython",
    "version": 3
   },
   "file_extension": ".py",
   "mimetype": "text/x-python",
   "name": "python",
   "nbconvert_exporter": "python",
   "pygments_lexer": "ipython3",
   "version": "3.8.5"
  }
 },
 "nbformat": 4,
 "nbformat_minor": 4
}
