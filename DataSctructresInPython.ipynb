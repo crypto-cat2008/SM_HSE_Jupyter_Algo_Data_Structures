{
 "cells": [
  {
   "cell_type": "code",
   "execution_count": 3,
   "metadata": {},
   "outputs": [
    {
     "data": {
      "text/plain": [
       "1"
      ]
     },
     "execution_count": 3,
     "metadata": {},
     "output_type": "execute_result"
    }
   ],
   "source": [
    "# Stack\n",
    "\n",
    "stack = []\n",
    "stack.append(1)\n",
    "stack.pop()"
   ]
  },
  {
   "cell_type": "code",
   "execution_count": 13,
   "metadata": {},
   "outputs": [
    {
     "name": "stdout",
     "output_type": "stream",
     "text": [
      "1\n",
      "deque([1, 2, 3])\n"
     ]
    },
    {
     "data": {
      "text/plain": [
       "1"
      ]
     },
     "execution_count": 13,
     "metadata": {},
     "output_type": "execute_result"
    }
   ],
   "source": [
    "# Queue\n",
    "\n",
    "from collections import deque\n",
    "queue = deque()\n",
    "queue.append(1)\n",
    "queue.append(2)\n",
    "print(queue.popleft())\n",
    "\n",
    "from queue import Queue\n",
    "Q = Queue()\n",
    "Q.put(1)\n",
    "Q.put(2)\n",
    "Q.put(3)\n",
    "print(Q.queue)\n",
    "Q.get()"
   ]
  },
  {
   "cell_type": "code",
   "execution_count": null,
   "metadata": {},
   "outputs": [],
   "source": [
    "# Linked lists and binary search trees are not available in Python"
   ]
  },
  {
   "cell_type": "code",
   "execution_count": 27,
   "metadata": {},
   "outputs": [
    {
     "name": "stdout",
     "output_type": "stream",
     "text": [
      "True\n",
      "True\n",
      "-1\n",
      "{1: 2, 2: 2, 3: 2, 4: 3, 5: 2, 6: 1}\n",
      "defaultdict(<class 'int'>, {1: 2, 2: 2, 3: 2, 4: 3, 5: 2, 6: 1})\n",
      "{1: 2, 2: 2, 3: 2, 4: 3, 5: 2, 6: 1}\n"
     ]
    }
   ],
   "source": [
    "# Hash table\n",
    "\n",
    "hash_table = set()\n",
    "hash_table.add(1)\n",
    "print( 1 in hash_table)\n",
    "hash_table.remove(1)\n",
    "\n",
    "\n",
    "hash_table = dict()\n",
    "hash_table[1] = -1\n",
    "print( 1 in hash_table)\n",
    "print(hash_table[1])\n",
    "del hash_table[1]\n",
    "\n",
    "def dictify(arr):\n",
    "    d = dict()\n",
    "    \n",
    "    for elem in arr:\n",
    "        if elem not in d:\n",
    "            d[elem] = 0\n",
    "        d[elem] += 1\n",
    "        \n",
    "    return d\n",
    "        \n",
    "print(dictify([1,2,3,4,4,5,6,1,2,3,4,5]))\n",
    "\n",
    "from collections import defaultdict\n",
    "\n",
    "def dictify(arr):\n",
    "    d = defaultdict(int)  # int will set default to 0; you can use list as default\n",
    "    \n",
    "    for elem in arr:\n",
    "        d[elem] += 1\n",
    "        \n",
    "    return  d\n",
    "        \n",
    "print(dictify([1,2,3,4,4,5,6,1,2,3,4,5]))\n",
    "\n",
    "from collections import Counter\n",
    "\n",
    "def dictify(arr):\n",
    "        \n",
    "    return dict(Counter(arr))\n",
    "\n",
    "print(dictify([1,2,3,4,4,5,6,1,2,3,4,5]))\n",
    "        "
   ]
  },
  {
   "cell_type": "code",
   "execution_count": 31,
   "metadata": {},
   "outputs": [
    {
     "data": {
      "text/plain": [
       "[0, 2, 5, 4, 3]"
      ]
     },
     "execution_count": 31,
     "metadata": {},
     "output_type": "execute_result"
    }
   ],
   "source": [
    "# Binary Heap\n",
    "\n",
    "from heapq import heapify, heappop, heappush\n",
    "arr = [1, 3, 2, 4, 5]\n",
    "heapify(arr)\n",
    "heappop(arr) # returns min element\n",
    "heappush(arr, 0)\n",
    "arr"
   ]
  },
  {
   "cell_type": "code",
   "execution_count": null,
   "metadata": {},
   "outputs": [],
   "source": []
  }
 ],
 "metadata": {
  "kernelspec": {
   "display_name": "Python 3",
   "language": "python",
   "name": "python3"
  },
  "language_info": {
   "codemirror_mode": {
    "name": "ipython",
    "version": 3
   },
   "file_extension": ".py",
   "mimetype": "text/x-python",
   "name": "python",
   "nbconvert_exporter": "python",
   "pygments_lexer": "ipython3",
   "version": "3.8.5"
  }
 },
 "nbformat": 4,
 "nbformat_minor": 4
}
